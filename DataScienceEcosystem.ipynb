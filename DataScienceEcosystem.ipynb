{
 "cells": [
  {
   "cell_type": "markdown",
   "id": "354fe6b8-4d22-4459-8e2f-08e3baa55e02",
   "metadata": {},
   "source": [
    "# Data Science Tools and Ecosystem\n"
   ]
  },
  {
   "cell_type": "markdown",
   "id": "5c284c95-544c-4123-9f06-a438a334c8d7",
   "metadata": {},
   "source": [
    "In this notebook, Data Science Tools and Ecosystem are summarized.\n"
   ]
  },
  {
   "cell_type": "markdown",
   "id": "0ddc8c5b-1933-43b8-89a4-bb644cfad5bc",
   "metadata": {},
   "source": [
    "**Objectives:**\n",
    "\n",
    "- List popular languages for Data Science.\n",
    "- Describe commonly used libraries in Data Science.\n",
    "- Introduce development environments used by Data Scientists.\n",
    "- Demonstrate basic arithmetic expressions in Python.\n",
    "- Explain the conversion of units (e.g., minutes to hours).\n"
   ]
  },
  {
   "cell_type": "markdown",
   "id": "27a51efc-f848-40ca-be4a-40ef38901377",
   "metadata": {},
   "source": [
    "Some of the popular languages that Data Scientists use are:\n",
    "1. Python\n",
    "2. R\n",
    "3. SQL\n"
   ]
  },
  {
   "cell_type": "markdown",
   "id": "ad6cead1-a70e-415d-85fb-f708b90b82d0",
   "metadata": {},
   "source": [
    "Some of the commonly used libraries used by Data Scientists include:\n",
    "1. Pandas - for data manipulation and analysis.\n",
    "2. NumPy - for numerical computing with Python.\n",
    "3. Matplotlib - for creating static, interactive, and animated visualizations in Python.\n"
   ]
  },
  {
   "cell_type": "markdown",
   "id": "c76eeef5-f1d5-4271-a734-8d2bb377a9c8",
   "metadata": {},
   "source": [
    "| Data Science Tools |\n",
    "|--------------------|\n",
    "| Jupyter Notebook   |\n",
    "| RStudio            |\n",
    "| Apache Zeppelin    |\n"
   ]
  },
  {
   "cell_type": "markdown",
   "id": "0273bc43-beb0-429c-ac43-2c4d6e2a7d60",
   "metadata": {},
   "source": [
    "### Below are a few examples of evaluating arithmetic expressions in Python.\n"
   ]
  },
  {
   "cell_type": "code",
   "execution_count": 1,
   "id": "05b0ce7f-d9d1-4fee-a682-2e2133b6c433",
   "metadata": {
    "jupyter": {
     "source_hidden": true
    }
   },
   "outputs": [
    {
     "data": {
      "text/plain": [
       "17"
      ]
     },
     "execution_count": 1,
     "metadata": {},
     "output_type": "execute_result"
    }
   ],
   "source": [
    "#This is a simple arithmetic expression to multiply then add integers.\n",
    "result = (3 * 4) + 5\n",
    "result\n"
   ]
  },
  {
   "cell_type": "code",
   "execution_count": 2,
   "id": "76f98e57-6463-4f35-9097-954e9db4a888",
   "metadata": {
    "jupyter": {
     "source_hidden": true
    }
   },
   "outputs": [
    {
     "data": {
      "text/plain": [
       "3.3333333333333335"
      ]
     },
     "execution_count": 2,
     "metadata": {},
     "output_type": "execute_result"
    }
   ],
   "source": [
    "# This will convert 200 minutes to hours by dividing by 60.\n",
    "hours = 200 / 60\n",
    "hours\n"
   ]
  },
  {
   "cell_type": "markdown",
   "id": "c9d7d36f-e05b-454b-912e-beb4da1a8b11",
   "metadata": {},
   "source": [
    "## Author\n",
    "Gabriela Saenz\n"
   ]
  },
  {
   "cell_type": "code",
   "execution_count": null,
   "id": "aa09dfb5-d177-4d73-a20f-4f5d1811e838",
   "metadata": {},
   "outputs": [],
   "source": []
  },
  {
   "cell_type": "code",
   "execution_count": null,
   "id": "57039647-8996-4052-bbf1-640b6c28ff58",
   "metadata": {},
   "outputs": [],
   "source": []
  }
 ],
 "metadata": {
  "kernelspec": {
   "display_name": "Python 3 (ipykernel)",
   "language": "python",
   "name": "python3"
  },
  "language_info": {
   "codemirror_mode": {
    "name": "ipython",
    "version": 3
   },
   "file_extension": ".py",
   "mimetype": "text/x-python",
   "name": "python",
   "nbconvert_exporter": "python",
   "pygments_lexer": "ipython3",
   "version": "3.11.9"
  }
 },
 "nbformat": 4,
 "nbformat_minor": 5
}
